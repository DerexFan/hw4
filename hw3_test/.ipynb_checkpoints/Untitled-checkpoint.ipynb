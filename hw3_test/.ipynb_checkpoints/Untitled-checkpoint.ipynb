{
 "cells": [
  {
   "cell_type": "markdown",
   "id": "9415d0e9",
   "metadata": {},
   "source": [
    "# from test"
   ]
  },
  {
   "cell_type": "code",
   "execution_count": 69,
   "id": "0c8c9e6b",
   "metadata": {},
   "outputs": [],
   "source": [
    "import pandas as pd\n",
    "import sys"
   ]
  },
  {
   "cell_type": "markdown",
   "id": "9b512914",
   "metadata": {},
   "source": [
    "# read csv file"
   ]
  },
  {
   "cell_type": "code",
   "execution_count": 70,
   "id": "9a72f7b6",
   "metadata": {},
   "outputs": [],
   "source": [
    "df = pd.read_csv('HW3_Tianyin_Fan.csv')"
   ]
  },
  {
   "cell_type": "markdown",
   "id": "6f8d642e",
   "metadata": {},
   "source": [
    "# show tables "
   ]
  },
  {
   "cell_type": "code",
   "execution_count": 71,
   "id": "cf5e6975",
   "metadata": {},
   "outputs": [
    {
     "data": {
      "text/html": [
       "<div>\n",
       "<style scoped>\n",
       "    .dataframe tbody tr th:only-of-type {\n",
       "        vertical-align: middle;\n",
       "    }\n",
       "\n",
       "    .dataframe tbody tr th {\n",
       "        vertical-align: top;\n",
       "    }\n",
       "\n",
       "    .dataframe thead th {\n",
       "        text-align: right;\n",
       "    }\n",
       "</style>\n",
       "<table border=\"1\" class=\"dataframe\">\n",
       "  <thead>\n",
       "    <tr style=\"text-align: right;\">\n",
       "      <th></th>\n",
       "      <th>Unnamed: 0</th>\n",
       "      <th>Requirement</th>\n",
       "      <th>Analysis</th>\n",
       "      <th>Design</th>\n",
       "      <th>Coding</th>\n",
       "      <th>Unit Testing</th>\n",
       "      <th>Integration Testing</th>\n",
       "      <th>System Testing</th>\n",
       "      <th>Field</th>\n",
       "      <th>Total</th>\n",
       "    </tr>\n",
       "  </thead>\n",
       "  <tbody>\n",
       "    <tr>\n",
       "      <th>0</th>\n",
       "      <td>Requirement</td>\n",
       "      <td>81</td>\n",
       "      <td></td>\n",
       "      <td></td>\n",
       "      <td></td>\n",
       "      <td></td>\n",
       "      <td></td>\n",
       "      <td></td>\n",
       "      <td>NaN</td>\n",
       "      <td>81</td>\n",
       "    </tr>\n",
       "    <tr>\n",
       "      <th>1</th>\n",
       "      <td>Analysis</td>\n",
       "      <td>21</td>\n",
       "      <td>29</td>\n",
       "      <td></td>\n",
       "      <td></td>\n",
       "      <td></td>\n",
       "      <td></td>\n",
       "      <td></td>\n",
       "      <td>NaN</td>\n",
       "      <td>50</td>\n",
       "    </tr>\n",
       "    <tr>\n",
       "      <th>2</th>\n",
       "      <td>Design</td>\n",
       "      <td>17</td>\n",
       "      <td>17</td>\n",
       "      <td>102</td>\n",
       "      <td></td>\n",
       "      <td></td>\n",
       "      <td></td>\n",
       "      <td></td>\n",
       "      <td>NaN</td>\n",
       "      <td>136</td>\n",
       "    </tr>\n",
       "    <tr>\n",
       "      <th>3</th>\n",
       "      <td>Coding</td>\n",
       "      <td>36</td>\n",
       "      <td>19</td>\n",
       "      <td>55</td>\n",
       "      <td>402</td>\n",
       "      <td></td>\n",
       "      <td></td>\n",
       "      <td></td>\n",
       "      <td>NaN</td>\n",
       "      <td>512</td>\n",
       "    </tr>\n",
       "    <tr>\n",
       "      <th>4</th>\n",
       "      <td>Unit Testing</td>\n",
       "      <td>12</td>\n",
       "      <td>35</td>\n",
       "      <td>8</td>\n",
       "      <td>156</td>\n",
       "      <td>51</td>\n",
       "      <td></td>\n",
       "      <td></td>\n",
       "      <td>NaN</td>\n",
       "      <td>262</td>\n",
       "    </tr>\n",
       "    <tr>\n",
       "      <th>5</th>\n",
       "      <td>Integration Testing</td>\n",
       "      <td>7</td>\n",
       "      <td>15</td>\n",
       "      <td>7</td>\n",
       "      <td>27</td>\n",
       "      <td>-</td>\n",
       "      <td>3</td>\n",
       "      <td></td>\n",
       "      <td>NaN</td>\n",
       "      <td>59</td>\n",
       "    </tr>\n",
       "    <tr>\n",
       "      <th>6</th>\n",
       "      <td>System Testing</td>\n",
       "      <td>14</td>\n",
       "      <td>39</td>\n",
       "      <td>5</td>\n",
       "      <td>23</td>\n",
       "      <td>-</td>\n",
       "      <td>-</td>\n",
       "      <td>3</td>\n",
       "      <td>NaN</td>\n",
       "      <td>84</td>\n",
       "    </tr>\n",
       "    <tr>\n",
       "      <th>7</th>\n",
       "      <td>Field</td>\n",
       "      <td>3</td>\n",
       "      <td>2</td>\n",
       "      <td>2</td>\n",
       "      <td>7</td>\n",
       "      <td>-</td>\n",
       "      <td>-</td>\n",
       "      <td>-</td>\n",
       "      <td>7.0</td>\n",
       "      <td>21</td>\n",
       "    </tr>\n",
       "    <tr>\n",
       "      <th>8</th>\n",
       "      <td>Total</td>\n",
       "      <td>191</td>\n",
       "      <td>156</td>\n",
       "      <td>179</td>\n",
       "      <td>615</td>\n",
       "      <td>51</td>\n",
       "      <td>3</td>\n",
       "      <td>3</td>\n",
       "      <td>7.0</td>\n",
       "      <td>1205</td>\n",
       "    </tr>\n",
       "  </tbody>\n",
       "</table>\n",
       "</div>"
      ],
      "text/plain": [
       "             Unnamed: 0  Requirement  Analysis  Design  Coding  Unit Testing   \\\n",
       "0          Requirement             81                                           \n",
       "1             Analysis             21        29                                 \n",
       "2               Design             17        17     102                         \n",
       "3               Coding             36        19      55     402                 \n",
       "4         Unit Testing             12        35       8     156            51   \n",
       "5  Integration Testing              7        15       7      27            -    \n",
       "6       System Testing             14        39       5      23            -    \n",
       "7                Field              3         2       2       7            -    \n",
       "8                 Total           191       156     179     615            51   \n",
       "\n",
       "  Integration Testing  System Testing   Field  Total  \n",
       "0                                         NaN     81  \n",
       "1                                         NaN     50  \n",
       "2                                         NaN    136  \n",
       "3                                         NaN    512  \n",
       "4                                         NaN    262  \n",
       "5                    3                    NaN     59  \n",
       "6                   -                3    NaN     84  \n",
       "7                   -               -     7.0     21  \n",
       "8                    3               3    7.0   1205  "
      ]
     },
     "execution_count": 71,
     "metadata": {},
     "output_type": "execute_result"
    }
   ],
   "source": [
    "df.head(100)"
   ]
  },
  {
   "cell_type": "code",
   "execution_count": null,
   "id": "04cfe6c9",
   "metadata": {},
   "outputs": [],
   "source": [
    "# read one column"
   ]
  },
  {
   "cell_type": "code",
   "execution_count": 72,
   "id": "af4eb07b",
   "metadata": {},
   "outputs": [
    {
     "data": {
      "text/plain": [
       "0            Requirement \n",
       "1               Analysis \n",
       "2                 Design \n",
       "3                 Coding \n",
       "4           Unit Testing \n",
       "5    Integration Testing \n",
       "6         System Testing \n",
       "7                  Field \n",
       "8                   Total\n",
       "Name: Unnamed: 0, dtype: object"
      ]
     },
     "execution_count": 72,
     "metadata": {},
     "output_type": "execute_result"
    }
   ],
   "source": [
    "df['Unnamed: 0']"
   ]
  },
  {
   "cell_type": "code",
   "execution_count": null,
   "id": "7358c670",
   "metadata": {},
   "outputs": [],
   "source": []
  },
  {
   "cell_type": "code",
   "execution_count": null,
   "id": "79d61f01",
   "metadata": {},
   "outputs": [],
   "source": []
  }
 ],
 "metadata": {
  "kernelspec": {
   "display_name": "Python 3 (ipykernel)",
   "language": "python",
   "name": "python3"
  },
  "language_info": {
   "codemirror_mode": {
    "name": "ipython",
    "version": 3
   },
   "file_extension": ".py",
   "mimetype": "text/x-python",
   "name": "python",
   "nbconvert_exporter": "python",
   "pygments_lexer": "ipython3",
   "version": "3.9.13"
  }
 },
 "nbformat": 4,
 "nbformat_minor": 5
}
